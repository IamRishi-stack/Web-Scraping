{
 "cells": [
  {
   "cell_type": "code",
   "execution_count": 99,
   "id": "0fa5d6d5-83b1-4e1e-b353-d8b2999c0060",
   "metadata": {},
   "outputs": [],
   "source": [
    "from bs4 import BeautifulSoup\n",
    "from selenium import webdriver\n",
    "from selenium.webdriver.chrome.service import Service\n",
    "import re\n",
    "import pandas as pd\n",
    "from tqdm import tqdm"
   ]
  },
  {
   "cell_type": "code",
   "execution_count": 69,
   "id": "2800324a-772c-4425-bd76-95a31ac6b877",
   "metadata": {},
   "outputs": [],
   "source": [
    "# Specify the path to your ChromeDriver executable\n",
    "chrome_driver_path = r'C:\\Users\\rishi\\dwhelper\\chromedriver.exe'  # Make sure to include the .exe extension\n",
    "\n",
    "# Create a Service object\n",
    "service = Service(chrome_driver_path)\n",
    "driver = webdriver.Chrome(service=service)\n",
    "\n",
    "# Initialize the Chrome WebDriver\n",
    "driver.get('https://www.youtube.com/@GeeksforGeeksVideos/videos')"
   ]
  },
  {
   "cell_type": "code",
   "execution_count": 79,
   "id": "694d15d0-98b6-4488-b65b-2d95000ad7c5",
   "metadata": {},
   "outputs": [],
   "source": [
    "Soup = BeautifulSoup(driver.page_source, 'html.parser')"
   ]
  },
  {
   "cell_type": "code",
   "execution_count": 87,
   "id": "866b5842-7f73-4097-b786-95b2835fe74c",
   "metadata": {},
   "outputs": [
    {
     "name": "stderr",
     "output_type": "stream",
     "text": [
      "  0%|          | 0/2142 [00:00<?, ?it/s]C:\\Users\\rishi\\AppData\\Local\\Temp\\ipykernel_7328\\3369819366.py:9: DeprecationWarning: The 'text' argument to find()-type methods is deprecated. Use 'string' instead.\n",
      "  views_element = video.find('span', text=re.compile(r'views', re.IGNORECASE)) or \\\n",
      "100%|██████████| 2142/2142 [00:01<00:00, 1244.73it/s]\n"
     ]
    }
   ],
   "source": [
    "data = []\n",
    "\n",
    "for video in tqdm(Soup.find_all('ytd-rich-item-renderer')):\n",
    "    # Extract elements relative to the current video element\n",
    "    title_element = video.find('a', class_='yt-simple-endpoint focus-on-expand style-scope ytd-rich-grid-media')\n",
    "    title = title_element.text if title_element else \"N/A\"\n",
    "    \n",
    "    # For views, you might need a more specific selector (current one gets same as title)\n",
    "    views_element = video.find('span', text=re.compile(r'views', re.IGNORECASE)) or \\\n",
    "                   video.find('span', {'aria-label': lambda x: x and 'views' in x})\n",
    "    views = views_element.text.strip() if views_element else \"N/A\"\n",
    "    \n",
    "    # For date/time\n",
    "    date_elements = video.find_all('span', class_='inline-metadata-item style-scope ytd-video-meta-block')\n",
    "    date_time = date_elements[1].text if len(date_elements) > 1 else \"N/A\"\n",
    "    \n",
    "    # For duration\n",
    "    duration_element = video.find('div', class_='badge-shape-wiz__text')\n",
    "    duration = duration_element.text.strip() if duration_element else \"N/A\"\n",
    "    \n",
    "    # For link\n",
    "    link_element = video.find('a', class_='yt-simple-endpoint inline-block style-scope ytd-thumbnail')\n",
    "    href = \"https://www.youtube.com\" + link_element['href'] if link_element and 'href' in link_element.attrs else \"N/A\"\n",
    "\n",
    "    data.append ([title, views, date_time, duration,  href])\n"
   ]
  },
  {
   "cell_type": "code",
   "execution_count": 101,
   "id": "e1cd5c93-e490-467d-b965-bdb92e55b98e",
   "metadata": {},
   "outputs": [],
   "source": [
    "df = pd.DataFrame(data, columns= ['title', 'views', 'date_time', 'duration', 'href' ])"
   ]
  },
  {
   "cell_type": "code",
   "execution_count": 103,
   "id": "29753c98-f87b-4591-8e9a-9f53899f5fb3",
   "metadata": {},
   "outputs": [
    {
     "data": {
      "text/html": [
       "<div>\n",
       "<style scoped>\n",
       "    .dataframe tbody tr th:only-of-type {\n",
       "        vertical-align: middle;\n",
       "    }\n",
       "\n",
       "    .dataframe tbody tr th {\n",
       "        vertical-align: top;\n",
       "    }\n",
       "\n",
       "    .dataframe thead th {\n",
       "        text-align: right;\n",
       "    }\n",
       "</style>\n",
       "<table border=\"1\" class=\"dataframe\">\n",
       "  <thead>\n",
       "    <tr style=\"text-align: right;\">\n",
       "      <th></th>\n",
       "      <th>title</th>\n",
       "      <th>views</th>\n",
       "      <th>date_time</th>\n",
       "      <th>duration</th>\n",
       "      <th>href</th>\n",
       "    </tr>\n",
       "  </thead>\n",
       "  <tbody>\n",
       "    <tr>\n",
       "      <th>0</th>\n",
       "      <td>I went to the House of a Zomato Software Engin...</td>\n",
       "      <td>419 views</td>\n",
       "      <td>1 hour ago</td>\n",
       "      <td>24:21</td>\n",
       "      <td>https://www.youtube.com/watch?v=1WCuuJYvPFc</td>\n",
       "    </tr>\n",
       "    <tr>\n",
       "      <th>1</th>\n",
       "      <td>Three 90 Challenge: Ending on 31st March!</td>\n",
       "      <td>725 views</td>\n",
       "      <td>2 days ago</td>\n",
       "      <td>0:41</td>\n",
       "      <td>https://www.youtube.com/watch?v=j_qF5z5jazY</td>\n",
       "    </tr>\n",
       "    <tr>\n",
       "      <th>2</th>\n",
       "      <td>GSoC 2025 | Everything You Need to Know</td>\n",
       "      <td>24K views</td>\n",
       "      <td>8 days ago</td>\n",
       "      <td>5:38</td>\n",
       "      <td>https://www.youtube.com/watch?v=4U8t0WUQGps</td>\n",
       "    </tr>\n",
       "    <tr>\n",
       "      <th>3</th>\n",
       "      <td>Why can't Gen Z get a job?</td>\n",
       "      <td>1.6K views</td>\n",
       "      <td>13 days ago</td>\n",
       "      <td>1:02:25</td>\n",
       "      <td>https://www.youtube.com/watch?v=JZo33ruBBDA</td>\n",
       "    </tr>\n",
       "    <tr>\n",
       "      <th>4</th>\n",
       "      <td>Prompts to 10x Your Coding Journey 🚀</td>\n",
       "      <td>2.7K views</td>\n",
       "      <td>2 weeks ago</td>\n",
       "      <td>7:10</td>\n",
       "      <td>https://www.youtube.com/watch?v=N2FP3BbyrqY</td>\n",
       "    </tr>\n",
       "    <tr>\n",
       "      <th>...</th>\n",
       "      <td>...</td>\n",
       "      <td>...</td>\n",
       "      <td>...</td>\n",
       "      <td>...</td>\n",
       "      <td>...</td>\n",
       "    </tr>\n",
       "    <tr>\n",
       "      <th>2137</th>\n",
       "      <td>Length of shortest chain to reach a target wor...</td>\n",
       "      <td>44K views</td>\n",
       "      <td>8 years ago</td>\n",
       "      <td>12:25</td>\n",
       "      <td>https://www.youtube.com/watch?v=6pIC20wCm20</td>\n",
       "    </tr>\n",
       "    <tr>\n",
       "      <th>2138</th>\n",
       "      <td>Binary Search | GeeksQuiz</td>\n",
       "      <td>192K views</td>\n",
       "      <td>8 years ago</td>\n",
       "      <td>7:33</td>\n",
       "      <td>https://www.youtube.com/watch?v=T2sFYY-fT5o</td>\n",
       "    </tr>\n",
       "    <tr>\n",
       "      <th>2139</th>\n",
       "      <td>Number of Triangles in an Undirected Graph | G...</td>\n",
       "      <td>19K views</td>\n",
       "      <td>9 years ago</td>\n",
       "      <td>8:44</td>\n",
       "      <td>https://www.youtube.com/watch?v=ChdNz1Ui1uc</td>\n",
       "    </tr>\n",
       "    <tr>\n",
       "      <th>2140</th>\n",
       "      <td>Write a program to print all permutations of a...</td>\n",
       "      <td>492K views</td>\n",
       "      <td>9 years ago</td>\n",
       "      <td>11:52</td>\n",
       "      <td>https://www.youtube.com/watch?v=AfxHGNRtFac</td>\n",
       "    </tr>\n",
       "    <tr>\n",
       "      <th>2141</th>\n",
       "      <td>Longest Span with same Sum in two Binary array...</td>\n",
       "      <td>308K views</td>\n",
       "      <td>9 years ago</td>\n",
       "      <td>20:26</td>\n",
       "      <td>https://www.youtube.com/watch?v=xtfj4-r_Ahs</td>\n",
       "    </tr>\n",
       "  </tbody>\n",
       "</table>\n",
       "<p>2142 rows × 5 columns</p>\n",
       "</div>"
      ],
      "text/plain": [
       "                                                  title       views  \\\n",
       "0     I went to the House of a Zomato Software Engin...   419 views   \n",
       "1             Three 90 Challenge: Ending on 31st March!   725 views   \n",
       "2               GSoC 2025 | Everything You Need to Know   24K views   \n",
       "3                            Why can't Gen Z get a job?  1.6K views   \n",
       "4                  Prompts to 10x Your Coding Journey 🚀  2.7K views   \n",
       "...                                                 ...         ...   \n",
       "2137  Length of shortest chain to reach a target wor...   44K views   \n",
       "2138                          Binary Search | GeeksQuiz  192K views   \n",
       "2139  Number of Triangles in an Undirected Graph | G...   19K views   \n",
       "2140  Write a program to print all permutations of a...  492K views   \n",
       "2141  Longest Span with same Sum in two Binary array...  308K views   \n",
       "\n",
       "        date_time duration                                         href  \n",
       "0      1 hour ago    24:21  https://www.youtube.com/watch?v=1WCuuJYvPFc  \n",
       "1      2 days ago     0:41  https://www.youtube.com/watch?v=j_qF5z5jazY  \n",
       "2      8 days ago     5:38  https://www.youtube.com/watch?v=4U8t0WUQGps  \n",
       "3     13 days ago  1:02:25  https://www.youtube.com/watch?v=JZo33ruBBDA  \n",
       "4     2 weeks ago     7:10  https://www.youtube.com/watch?v=N2FP3BbyrqY  \n",
       "...           ...      ...                                          ...  \n",
       "2137  8 years ago    12:25  https://www.youtube.com/watch?v=6pIC20wCm20  \n",
       "2138  8 years ago     7:33  https://www.youtube.com/watch?v=T2sFYY-fT5o  \n",
       "2139  9 years ago     8:44  https://www.youtube.com/watch?v=ChdNz1Ui1uc  \n",
       "2140  9 years ago    11:52  https://www.youtube.com/watch?v=AfxHGNRtFac  \n",
       "2141  9 years ago    20:26  https://www.youtube.com/watch?v=xtfj4-r_Ahs  \n",
       "\n",
       "[2142 rows x 5 columns]"
      ]
     },
     "execution_count": 103,
     "metadata": {},
     "output_type": "execute_result"
    }
   ],
   "source": [
    "df"
   ]
  },
  {
   "cell_type": "code",
   "execution_count": 111,
   "id": "c5139cc3-a09f-4f82-9e55-64d77a9288cf",
   "metadata": {},
   "outputs": [
    {
     "name": "stdout",
     "output_type": "stream",
     "text": [
      "Sucessfully Saved!\n"
     ]
    }
   ],
   "source": [
    "df.to_csv( 'Youtube_Data.csv', index = False)\n",
    "print('Sucessfully Saved!')"
   ]
  }
 ],
 "metadata": {
  "kernelspec": {
   "display_name": "Python [conda env:base] *",
   "language": "python",
   "name": "conda-base-py"
  },
  "language_info": {
   "codemirror_mode": {
    "name": "ipython",
    "version": 3
   },
   "file_extension": ".py",
   "mimetype": "text/x-python",
   "name": "python",
   "nbconvert_exporter": "python",
   "pygments_lexer": "ipython3",
   "version": "3.12.7"
  }
 },
 "nbformat": 4,
 "nbformat_minor": 5
}
